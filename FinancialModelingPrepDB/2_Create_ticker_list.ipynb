{
 "cells": [
  {
   "cell_type": "markdown",
   "id": "6a5d2481-7638-45ed-a355-7a00fc9af5ff",
   "metadata": {},
   "source": [
    "## 2. Create a ticker list to use in a python file For Loop"
   ]
  },
  {
   "cell_type": "markdown",
   "id": "5476809a-f263-457e-9294-cba960b03a5f",
   "metadata": {},
   "source": [
    "Objectives:\n",
    "- Read the stock ticker list from the SQLite DB\n",
    "- Filter the dataframe by Exchange\n",
    "- Create a list with the tickers for that exchange\n",
    "- Save list to json file\n",
    "\n",
    "This way we can download the financial data for all the tickers one exchange at a time.\n",
    "\n",
    "This makes the number of queries more manageable in the next script."
   ]
  },
  {
   "cell_type": "code",
   "execution_count": 1,
   "id": "43c8dc27-1dbf-4d0c-ae9f-34ccf459da7e",
   "metadata": {},
   "outputs": [],
   "source": [
    "# Imports\n",
    "import os\n",
    "import pandas as pd\n",
    "import json\n"
   ]
  },
  {
   "cell_type": "code",
   "execution_count": 2,
   "id": "dc0df63b-e1d3-46e1-9560-c5332db27990",
   "metadata": {},
   "outputs": [
    {
     "data": {
      "text/html": [
       "<div>\n",
       "<style scoped>\n",
       "    .dataframe tbody tr th:only-of-type {\n",
       "        vertical-align: middle;\n",
       "    }\n",
       "\n",
       "    .dataframe tbody tr th {\n",
       "        vertical-align: top;\n",
       "    }\n",
       "\n",
       "    .dataframe thead th {\n",
       "        text-align: right;\n",
       "    }\n",
       "</style>\n",
       "<table border=\"1\" class=\"dataframe\">\n",
       "  <thead>\n",
       "    <tr style=\"text-align: right;\">\n",
       "      <th></th>\n",
       "      <th>symbol</th>\n",
       "      <th>name</th>\n",
       "      <th>price</th>\n",
       "      <th>exchange</th>\n",
       "      <th>exchangeShortName</th>\n",
       "      <th>type</th>\n",
       "    </tr>\n",
       "  </thead>\n",
       "  <tbody>\n",
       "    <tr>\n",
       "      <th>0</th>\n",
       "      <td>CMCSA</td>\n",
       "      <td>Comcast Corporation</td>\n",
       "      <td>49.64</td>\n",
       "      <td>Nasdaq Global Select</td>\n",
       "      <td>NASDAQ</td>\n",
       "      <td>stock</td>\n",
       "    </tr>\n",
       "    <tr>\n",
       "      <th>1</th>\n",
       "      <td>KMI</td>\n",
       "      <td>Kinder Morgan, Inc.</td>\n",
       "      <td>17.27</td>\n",
       "      <td>New York Stock Exchange</td>\n",
       "      <td>NYSE</td>\n",
       "      <td>stock</td>\n",
       "    </tr>\n",
       "    <tr>\n",
       "      <th>2</th>\n",
       "      <td>INTC</td>\n",
       "      <td>Intel Corporation</td>\n",
       "      <td>48.28</td>\n",
       "      <td>Nasdaq Global Select</td>\n",
       "      <td>NASDAQ</td>\n",
       "      <td>stock</td>\n",
       "    </tr>\n",
       "    <tr>\n",
       "      <th>3</th>\n",
       "      <td>MU</td>\n",
       "      <td>Micron Technology, Inc.</td>\n",
       "      <td>81.97</td>\n",
       "      <td>Nasdaq Global Select</td>\n",
       "      <td>NASDAQ</td>\n",
       "      <td>stock</td>\n",
       "    </tr>\n",
       "    <tr>\n",
       "      <th>4</th>\n",
       "      <td>GE</td>\n",
       "      <td>General Electric Company</td>\n",
       "      <td>98.32</td>\n",
       "      <td>New York Stock Exchange</td>\n",
       "      <td>NYSE</td>\n",
       "      <td>stock</td>\n",
       "    </tr>\n",
       "  </tbody>\n",
       "</table>\n",
       "</div>"
      ],
      "text/plain": [
       "  symbol                      name  price                 exchange  \\\n",
       "0  CMCSA       Comcast Corporation  49.64     Nasdaq Global Select   \n",
       "1    KMI       Kinder Morgan, Inc.  17.27  New York Stock Exchange   \n",
       "2   INTC         Intel Corporation  48.28     Nasdaq Global Select   \n",
       "3     MU   Micron Technology, Inc.  81.97     Nasdaq Global Select   \n",
       "4     GE  General Electric Company  98.32  New York Stock Exchange   \n",
       "\n",
       "  exchangeShortName   type  \n",
       "0            NASDAQ  stock  \n",
       "1              NYSE  stock  \n",
       "2            NASDAQ  stock  \n",
       "3            NASDAQ  stock  \n",
       "4              NYSE  stock  "
      ]
     },
     "execution_count": 2,
     "metadata": {},
     "output_type": "execute_result"
    }
   ],
   "source": [
    "# Import SQLite3 table\n",
    "sqlite_table = \"stock_list\" \n",
    "table = pd.read_sql(sqlite_table, 'sqlite:///financialmodelingprep.db')\n",
    "table.head()\n"
   ]
  },
  {
   "cell_type": "code",
   "execution_count": 3,
   "id": "b50bc07f-49ab-4bd2-ad2f-1b428e495b62",
   "metadata": {},
   "outputs": [
    {
     "name": "stdout",
     "output_type": "stream",
     "text": [
      "Number of Rows in the Database:\n",
      "28846\n",
      "\n",
      "\n",
      "Types:\n",
      "['stock']\n",
      "\n",
      "\n",
      "Exchanges Covered (Long):\n",
      "['Nasdaq Global Select' 'New York Stock Exchange' 'Nasdaq Capital Market'\n",
      " 'New York Stock Exchange Arca' 'Nasdaq Global Market'\n",
      " 'NASDAQ Global Market' 'Other OTC' 'Paris' 'Amsterdam' 'Brussels'\n",
      " 'Lisbon' 'Toronto' 'YHD' 'EURONEXT' 'Swiss' 'AMEX' 'MCX' 'XETRA' 'NSE'\n",
      " 'LSE' 'SIX' 'HKSE' 'OSE' 'NASDAQ' 'Sao Paolo' 'TSXV' 'Frankfurt' 'HKG'\n",
      " 'NCM' 'MCE' 'ASE' 'OSL' 'Oslo' 'FGI' 'Irish' 'Canadian Sec' 'NZSE'\n",
      " 'Nasdaq' 'Jakarta' 'Vienna' 'Santiago' 'Shenzhen' 'Shanghai' 'Hamburg'\n",
      " 'Copenhagen' 'Helsinki' 'Athens' 'Milan' 'Tokyo' 'KSE' 'KOSDAQ'\n",
      " 'Stockholm' 'Istanbul' 'Taiwan' 'Mexico' 'Johannesburg' 'SAT' 'São Paulo'\n",
      " 'Tel Aviv' 'Warsaw' 'Thailand' 'IOB' 'Qatar' 'Kuala Lumpur' 'Prague'\n",
      " 'SES' 'Berlin' 'Taipei Exchange' 'Saudi' 'NasdaqGM' 'NasdaqGS' 'Iceland'\n",
      " 'NASDAQ Capital Market' 'NYSE American']\n",
      "\n",
      "\n",
      "Exchanges Covered (Short):\n",
      "['NASDAQ' 'NYSE' 'AMEX' 'OTC' 'EURONEXT' 'TSX' 'MCX' 'XETRA' 'NSE' 'LSE'\n",
      " 'SIX' 'HKSE' 'OSE' 'ASE' 'NASDAQ Global Market' 'BRU' 'JKT' 'VIE' 'SGO'\n",
      " 'SHZ' 'SHH' 'HAM' 'CPH' 'ATH' 'MIL' 'JPX' 'KSC' 'KOE' 'STO' 'IST' 'TAI'\n",
      " 'MEX' 'JNB' 'SAT' 'LIS' 'KOSDAQ' 'TLV' 'MCE' 'WSE' 'HEL' 'SAO' 'SET'\n",
      " 'GER' 'IOB' 'DOH' 'KLS' 'EBS' 'PRA' 'AMS' 'BER' 'TWO' 'SAU' 'ICE']\n",
      "\n",
      "\n"
     ]
    }
   ],
   "source": [
    "# Describing the data in the SQLite table\n",
    "print(\"Number of Rows in the Database:\")\n",
    "print(len(table.index))\n",
    "print(\"\\n\")\n",
    "print(\"Types:\")\n",
    "print(table.type.unique())\n",
    "print(\"\\n\")\n",
    "print(\"Exchanges Covered (Long):\")\n",
    "print(table.exchange.unique())\n",
    "print(\"\\n\")\n",
    "print(\"Exchanges Covered (Short):\")\n",
    "print(table.exchangeShortName.unique())\n",
    "print(\"\\n\")"
   ]
  },
  {
   "cell_type": "code",
   "execution_count": 7,
   "id": "78a2b646-47a9-4e47-97e0-f4cba5ecd1cc",
   "metadata": {},
   "outputs": [],
   "source": [
    "# Define the Exchange to filter by:\n",
    "# Go in list order.\n",
    "exchange = \"NASDAQ\""
   ]
  },
  {
   "cell_type": "code",
   "execution_count": 9,
   "id": "0071ce5e-10d8-44ea-9f04-d74fba987b78",
   "metadata": {},
   "outputs": [
    {
     "data": {
      "text/html": [
       "<div>\n",
       "<style scoped>\n",
       "    .dataframe tbody tr th:only-of-type {\n",
       "        vertical-align: middle;\n",
       "    }\n",
       "\n",
       "    .dataframe tbody tr th {\n",
       "        vertical-align: top;\n",
       "    }\n",
       "\n",
       "    .dataframe thead th {\n",
       "        text-align: right;\n",
       "    }\n",
       "</style>\n",
       "<table border=\"1\" class=\"dataframe\">\n",
       "  <thead>\n",
       "    <tr style=\"text-align: right;\">\n",
       "      <th></th>\n",
       "      <th>symbol</th>\n",
       "      <th>name</th>\n",
       "      <th>price</th>\n",
       "      <th>exchange</th>\n",
       "      <th>exchangeShortName</th>\n",
       "      <th>type</th>\n",
       "    </tr>\n",
       "  </thead>\n",
       "  <tbody>\n",
       "    <tr>\n",
       "      <th>0</th>\n",
       "      <td>CMCSA</td>\n",
       "      <td>Comcast Corporation</td>\n",
       "      <td>49.64</td>\n",
       "      <td>Nasdaq Global Select</td>\n",
       "      <td>NASDAQ</td>\n",
       "      <td>stock</td>\n",
       "    </tr>\n",
       "    <tr>\n",
       "      <th>2</th>\n",
       "      <td>INTC</td>\n",
       "      <td>Intel Corporation</td>\n",
       "      <td>48.28</td>\n",
       "      <td>Nasdaq Global Select</td>\n",
       "      <td>NASDAQ</td>\n",
       "      <td>stock</td>\n",
       "    </tr>\n",
       "    <tr>\n",
       "      <th>3</th>\n",
       "      <td>MU</td>\n",
       "      <td>Micron Technology, Inc.</td>\n",
       "      <td>81.97</td>\n",
       "      <td>Nasdaq Global Select</td>\n",
       "      <td>NASDAQ</td>\n",
       "      <td>stock</td>\n",
       "    </tr>\n",
       "    <tr>\n",
       "      <th>6</th>\n",
       "      <td>AAPL</td>\n",
       "      <td>Apple Inc.</td>\n",
       "      <td>172.90</td>\n",
       "      <td>Nasdaq Global Select</td>\n",
       "      <td>NASDAQ</td>\n",
       "      <td>stock</td>\n",
       "    </tr>\n",
       "    <tr>\n",
       "      <th>7</th>\n",
       "      <td>MSFT</td>\n",
       "      <td>Microsoft Corporation</td>\n",
       "      <td>301.25</td>\n",
       "      <td>Nasdaq Global Select</td>\n",
       "      <td>NASDAQ</td>\n",
       "      <td>stock</td>\n",
       "    </tr>\n",
       "  </tbody>\n",
       "</table>\n",
       "</div>"
      ],
      "text/plain": [
       "  symbol                     name   price              exchange  \\\n",
       "0  CMCSA      Comcast Corporation   49.64  Nasdaq Global Select   \n",
       "2   INTC        Intel Corporation   48.28  Nasdaq Global Select   \n",
       "3     MU  Micron Technology, Inc.   81.97  Nasdaq Global Select   \n",
       "6   AAPL               Apple Inc.  172.90  Nasdaq Global Select   \n",
       "7   MSFT    Microsoft Corporation  301.25  Nasdaq Global Select   \n",
       "\n",
       "  exchangeShortName   type  \n",
       "0            NASDAQ  stock  \n",
       "2            NASDAQ  stock  \n",
       "3            NASDAQ  stock  \n",
       "6            NASDAQ  stock  \n",
       "7            NASDAQ  stock  "
      ]
     },
     "execution_count": 9,
     "metadata": {},
     "output_type": "execute_result"
    }
   ],
   "source": [
    "# Filter by Exchange\n",
    "rslt_df = table[table['exchangeShortName'] == exchange]\n",
    "rslt_df.head()"
   ]
  },
  {
   "cell_type": "code",
   "execution_count": 10,
   "id": "c5087086-e0c2-4cd5-9973-ad627ef656d7",
   "metadata": {},
   "outputs": [],
   "source": [
    "# Save the dataframe as list\n",
    "rslt_df = rslt_df['symbol'].tolist()"
   ]
  },
  {
   "cell_type": "code",
   "execution_count": 11,
   "id": "be3cd550-7b51-479b-8a16-b9d59f11fb46",
   "metadata": {},
   "outputs": [
    {
     "name": "stdout",
     "output_type": "stream",
     "text": [
      "ticker_list.json : File does not exist\n"
     ]
    }
   ],
   "source": [
    "# Delete previous lists if they exist\n",
    "file = \"ticker_list.json\"\n",
    "if os.path.exists(file):\n",
    "    os.remove(file)\n",
    "    print(file+\"File exists: Removed Successfuly\")\n",
    "else:\n",
    "    print(file+\" : File does not exist\")"
   ]
  },
  {
   "cell_type": "code",
   "execution_count": 12,
   "id": "9fb886e9-ed6a-40d3-b006-38f79cd8a2b2",
   "metadata": {},
   "outputs": [],
   "source": [
    "# Save list as JSON file\n",
    "with open(\"ticker_list.json\" , 'w') as f:\n",
    "    json.dump(rslt_df, f, indent=2) \n",
    "    # indent=2 is not needed but makes the file human-readable"
   ]
  },
  {
   "cell_type": "code",
   "execution_count": null,
   "id": "78b7919a-821d-4df6-816d-4e0804c5910a",
   "metadata": {},
   "outputs": [],
   "source": []
  }
 ],
 "metadata": {
  "kernelspec": {
   "display_name": "Python 3 (ipykernel)",
   "language": "python",
   "name": "python3"
  },
  "language_info": {
   "codemirror_mode": {
    "name": "ipython",
    "version": 3
   },
   "file_extension": ".py",
   "mimetype": "text/x-python",
   "name": "python",
   "nbconvert_exporter": "python",
   "pygments_lexer": "ipython3",
   "version": "3.8.12"
  }
 },
 "nbformat": 4,
 "nbformat_minor": 5
}
